{
 "cells": [
  {
   "cell_type": "code",
   "execution_count": null,
   "metadata": {},
   "outputs": [],
   "source": []
  },
  {
   "cell_type": "markdown",
   "metadata": {},
   "source": [
    "### Initial data cleaning and imputation steps"
   ]
  },
  {
   "cell_type": "code",
   "execution_count": 1,
   "metadata": {},
   "outputs": [],
   "source": [
    "import pandas as pd\n",
    "# import numpy as np"
   ]
  },
  {
   "cell_type": "code",
   "execution_count": 3,
   "metadata": {},
   "outputs": [],
   "source": [
    "df = pd.read_csv('dataset.csv')"
   ]
  },
  {
   "cell_type": "code",
   "execution_count": 4,
   "metadata": {},
   "outputs": [
    {
     "data": {
      "text/html": [
       "<div>\n",
       "<style scoped>\n",
       "    .dataframe tbody tr th:only-of-type {\n",
       "        vertical-align: middle;\n",
       "    }\n",
       "\n",
       "    .dataframe tbody tr th {\n",
       "        vertical-align: top;\n",
       "    }\n",
       "\n",
       "    .dataframe thead th {\n",
       "        text-align: right;\n",
       "    }\n",
       "</style>\n",
       "<table border=\"1\" class=\"dataframe\">\n",
       "  <thead>\n",
       "    <tr style=\"text-align: right;\">\n",
       "      <th></th>\n",
       "      <th>Country</th>\n",
       "      <th>Sub-national region</th>\n",
       "      <th>latitude</th>\n",
       "      <th>longitude</th>\n",
       "      <th>ISO country code</th>\n",
       "      <th>World region</th>\n",
       "      <th>MPI_Country</th>\n",
       "      <th>MPI_Region</th>\n",
       "      <th>PercPoverty</th>\n",
       "      <th>DepvrIntensity</th>\n",
       "      <th>...</th>\n",
       "      <th>Modis_LAI</th>\n",
       "      <th>Modis_EVI</th>\n",
       "      <th>soil_orgc</th>\n",
       "      <th>soil_phaq</th>\n",
       "      <th>soil_clay</th>\n",
       "      <th>soil_silt</th>\n",
       "      <th>soil_sand</th>\n",
       "      <th>Conflicts_total</th>\n",
       "      <th>Conflicts_totalDeaths</th>\n",
       "      <th>Conflicts_totalDeathsCivilians</th>\n",
       "    </tr>\n",
       "  </thead>\n",
       "  <tbody>\n",
       "    <tr>\n",
       "      <th>0</th>\n",
       "      <td>Afghanistan</td>\n",
       "      <td>Badakhshan</td>\n",
       "      <td>36.734772</td>\n",
       "      <td>70.811995</td>\n",
       "      <td>AFG</td>\n",
       "      <td>South Asia</td>\n",
       "      <td>0.295</td>\n",
       "      <td>0.387</td>\n",
       "      <td>67.5</td>\n",
       "      <td>57.3</td>\n",
       "      <td>...</td>\n",
       "      <td>2.0</td>\n",
       "      <td>732.0</td>\n",
       "      <td>NaN</td>\n",
       "      <td>NaN</td>\n",
       "      <td>NaN</td>\n",
       "      <td>NaN</td>\n",
       "      <td>NaN</td>\n",
       "      <td>21.0</td>\n",
       "      <td>160.0</td>\n",
       "      <td>3.0</td>\n",
       "    </tr>\n",
       "    <tr>\n",
       "      <th>1</th>\n",
       "      <td>Afghanistan</td>\n",
       "      <td>Badghis</td>\n",
       "      <td>35.167134</td>\n",
       "      <td>63.769538</td>\n",
       "      <td>AFG</td>\n",
       "      <td>South Asia</td>\n",
       "      <td>0.295</td>\n",
       "      <td>0.466</td>\n",
       "      <td>79.3</td>\n",
       "      <td>58.8</td>\n",
       "      <td>...</td>\n",
       "      <td>2.0</td>\n",
       "      <td>1340.0</td>\n",
       "      <td>NaN</td>\n",
       "      <td>NaN</td>\n",
       "      <td>NaN</td>\n",
       "      <td>NaN</td>\n",
       "      <td>NaN</td>\n",
       "      <td>0.0</td>\n",
       "      <td>0.0</td>\n",
       "      <td>0.0</td>\n",
       "    </tr>\n",
       "    <tr>\n",
       "      <th>2</th>\n",
       "      <td>Afghanistan</td>\n",
       "      <td>Baghlan</td>\n",
       "      <td>35.804295</td>\n",
       "      <td>69.287753</td>\n",
       "      <td>AFG</td>\n",
       "      <td>South Asia</td>\n",
       "      <td>0.295</td>\n",
       "      <td>0.300</td>\n",
       "      <td>59.7</td>\n",
       "      <td>50.3</td>\n",
       "      <td>...</td>\n",
       "      <td>1.0</td>\n",
       "      <td>884.0</td>\n",
       "      <td>NaN</td>\n",
       "      <td>NaN</td>\n",
       "      <td>NaN</td>\n",
       "      <td>NaN</td>\n",
       "      <td>NaN</td>\n",
       "      <td>2.0</td>\n",
       "      <td>2.0</td>\n",
       "      <td>0.0</td>\n",
       "    </tr>\n",
       "    <tr>\n",
       "      <th>3</th>\n",
       "      <td>Afghanistan</td>\n",
       "      <td>Balkh</td>\n",
       "      <td>36.755060</td>\n",
       "      <td>66.897537</td>\n",
       "      <td>AFG</td>\n",
       "      <td>South Asia</td>\n",
       "      <td>0.295</td>\n",
       "      <td>0.301</td>\n",
       "      <td>55.7</td>\n",
       "      <td>54.1</td>\n",
       "      <td>...</td>\n",
       "      <td>4.0</td>\n",
       "      <td>2028.0</td>\n",
       "      <td>NaN</td>\n",
       "      <td>NaN</td>\n",
       "      <td>NaN</td>\n",
       "      <td>NaN</td>\n",
       "      <td>NaN</td>\n",
       "      <td>1.0</td>\n",
       "      <td>4.0</td>\n",
       "      <td>0.0</td>\n",
       "    </tr>\n",
       "    <tr>\n",
       "      <th>4</th>\n",
       "      <td>Afghanistan</td>\n",
       "      <td>Bamyan</td>\n",
       "      <td>34.810007</td>\n",
       "      <td>67.821210</td>\n",
       "      <td>AFG</td>\n",
       "      <td>South Asia</td>\n",
       "      <td>0.295</td>\n",
       "      <td>0.325</td>\n",
       "      <td>61.0</td>\n",
       "      <td>53.3</td>\n",
       "      <td>...</td>\n",
       "      <td>4.0</td>\n",
       "      <td>1261.0</td>\n",
       "      <td>NaN</td>\n",
       "      <td>NaN</td>\n",
       "      <td>NaN</td>\n",
       "      <td>NaN</td>\n",
       "      <td>NaN</td>\n",
       "      <td>1.0</td>\n",
       "      <td>1.0</td>\n",
       "      <td>0.0</td>\n",
       "    </tr>\n",
       "  </tbody>\n",
       "</table>\n",
       "<p>5 rows × 31 columns</p>\n",
       "</div>"
      ],
      "text/plain": [
       "       Country Sub-national region   latitude  longitude ISO country code  \\\n",
       "0  Afghanistan          Badakhshan  36.734772  70.811995              AFG   \n",
       "1  Afghanistan             Badghis  35.167134  63.769538              AFG   \n",
       "2  Afghanistan             Baghlan  35.804295  69.287753              AFG   \n",
       "3  Afghanistan               Balkh  36.755060  66.897537              AFG   \n",
       "4  Afghanistan              Bamyan  34.810007  67.821210              AFG   \n",
       "\n",
       "  World region  MPI_Country  MPI_Region  PercPoverty  DepvrIntensity  ...  \\\n",
       "0   South Asia        0.295       0.387         67.5            57.3  ...   \n",
       "1   South Asia        0.295       0.466         79.3            58.8  ...   \n",
       "2   South Asia        0.295       0.300         59.7            50.3  ...   \n",
       "3   South Asia        0.295       0.301         55.7            54.1  ...   \n",
       "4   South Asia        0.295       0.325         61.0            53.3  ...   \n",
       "\n",
       "  Modis_LAI  Modis_EVI  soil_orgc  soil_phaq  soil_clay  soil_silt  soil_sand  \\\n",
       "0       2.0      732.0        NaN        NaN        NaN        NaN        NaN   \n",
       "1       2.0     1340.0        NaN        NaN        NaN        NaN        NaN   \n",
       "2       1.0      884.0        NaN        NaN        NaN        NaN        NaN   \n",
       "3       4.0     2028.0        NaN        NaN        NaN        NaN        NaN   \n",
       "4       4.0     1261.0        NaN        NaN        NaN        NaN        NaN   \n",
       "\n",
       "   Conflicts_total  Conflicts_totalDeaths  Conflicts_totalDeathsCivilians  \n",
       "0             21.0                  160.0                             3.0  \n",
       "1              0.0                    0.0                             0.0  \n",
       "2              2.0                    2.0                             0.0  \n",
       "3              1.0                    4.0                             0.0  \n",
       "4              1.0                    1.0                             0.0  \n",
       "\n",
       "[5 rows x 31 columns]"
      ]
     },
     "execution_count": 4,
     "metadata": {},
     "output_type": "execute_result"
    }
   ],
   "source": [
    "df.head()"
   ]
  },
  {
   "cell_type": "code",
   "execution_count": 5,
   "metadata": {},
   "outputs": [
    {
     "name": "stdout",
     "output_type": "stream",
     "text": [
      "<class 'pandas.core.frame.DataFrame'>\n",
      "RangeIndex: 994 entries, 0 to 993\n",
      "Data columns (total 31 columns):\n",
      " #   Column                          Non-Null Count  Dtype  \n",
      "---  ------                          --------------  -----  \n",
      " 0   Country                         994 non-null    object \n",
      " 1   Sub-national region             994 non-null    object \n",
      " 2   latitude                        963 non-null    float64\n",
      " 3   longitude                       963 non-null    float64\n",
      " 4   ISO country code                994 non-null    object \n",
      " 5   World region                    994 non-null    object \n",
      " 6   MPI_Country                     994 non-null    float64\n",
      " 7   MPI_Region                      994 non-null    float64\n",
      " 8   PercPoverty                     994 non-null    float64\n",
      " 9   DepvrIntensity                  993 non-null    float64\n",
      " 10  location_type                   963 non-null    object \n",
      " 11  latlngImputed                   994 non-null    int64  \n",
      " 12  useforspatial                   994 non-null    int64  \n",
      " 13  popDensity                      963 non-null    float64\n",
      " 14  precipitation                   963 non-null    float64\n",
      " 15  TimeToCity                      960 non-null    float64\n",
      " 16  AvgNightLight                   963 non-null    float64\n",
      " 17  LandClassification              963 non-null    float64\n",
      " 18  Elevation                       963 non-null    float64\n",
      " 19  Temperature                     957 non-null    float64\n",
      " 20  Evaporation                     713 non-null    float64\n",
      " 21  Modis_LAI                       713 non-null    float64\n",
      " 22  Modis_EVI                       962 non-null    float64\n",
      " 23  soil_orgc                       159 non-null    float64\n",
      " 24  soil_phaq                       162 non-null    float64\n",
      " 25  soil_clay                       162 non-null    float64\n",
      " 26  soil_silt                       162 non-null    float64\n",
      " 27  soil_sand                       161 non-null    float64\n",
      " 28  Conflicts_total                 963 non-null    float64\n",
      " 29  Conflicts_totalDeaths           963 non-null    float64\n",
      " 30  Conflicts_totalDeathsCivilians  963 non-null    float64\n",
      "dtypes: float64(24), int64(2), object(5)\n",
      "memory usage: 240.9+ KB\n"
     ]
    }
   ],
   "source": [
    "df.info()"
   ]
  },
  {
   "cell_type": "code",
   "execution_count": 6,
   "metadata": {},
   "outputs": [
    {
     "data": {
      "text/plain": [
       "(994, 31)"
      ]
     },
     "execution_count": 6,
     "metadata": {},
     "output_type": "execute_result"
    }
   ],
   "source": [
    "df.shape"
   ]
  },
  {
   "cell_type": "code",
   "execution_count": 8,
   "metadata": {},
   "outputs": [
    {
     "data": {
      "text/plain": [
       "Country                            object\n",
       "Sub-national region                object\n",
       "latitude                          float64\n",
       "longitude                         float64\n",
       "ISO country code                   object\n",
       "World region                       object\n",
       "MPI_Country                       float64\n",
       "MPI_Region                        float64\n",
       "PercPoverty                       float64\n",
       "DepvrIntensity                    float64\n",
       "location_type                      object\n",
       "latlngImputed                       int64\n",
       "useforspatial                       int64\n",
       "popDensity                        float64\n",
       "precipitation                     float64\n",
       "TimeToCity                        float64\n",
       "AvgNightLight                     float64\n",
       "LandClassification                float64\n",
       "Elevation                         float64\n",
       "Temperature                       float64\n",
       "Evaporation                       float64\n",
       "Modis_LAI                         float64\n",
       "Modis_EVI                         float64\n",
       "soil_orgc                         float64\n",
       "soil_phaq                         float64\n",
       "soil_clay                         float64\n",
       "soil_silt                         float64\n",
       "soil_sand                         float64\n",
       "Conflicts_total                   float64\n",
       "Conflicts_totalDeaths             float64\n",
       "Conflicts_totalDeathsCivilians    float64\n",
       "dtype: object"
      ]
     },
     "execution_count": 8,
     "metadata": {},
     "output_type": "execute_result"
    }
   ],
   "source": [
    "df.dtypes"
   ]
  },
  {
   "cell_type": "code",
   "execution_count": 7,
   "metadata": {},
   "outputs": [
    {
     "data": {
      "text/plain": [
       "latitude                           1025.937510\n",
       "longitude                          1108.293666\n",
       "MPI_Country                         995.524189\n",
       "MPI_Region                          995.701639\n",
       "PercPoverty                        1278.805830\n",
       "DepvrIntensity                     1296.943376\n",
       "latlngImputed                       995.032724\n",
       "useforspatial                       999.142724\n",
       "popDensity                        25230.189805\n",
       "precipitation                      9404.798769\n",
       "TimeToCity                         8608.455726\n",
       "AvgNightLight                      1082.683748\n",
       "LandClassification                 1584.787160\n",
       "Elevation                          9739.953811\n",
       "Temperature                        1123.410193\n",
       "Evaporation                       57800.357721\n",
       "Modis_LAI                           845.641697\n",
       "Modis_EVI                         20259.133924\n",
       "soil_orgc                           331.458626\n",
       "soil_phaq                           201.178334\n",
       "soil_clay                           374.572331\n",
       "soil_silt                           321.484161\n",
       "soil_sand                           474.759190\n",
       "Conflicts_total                    1328.235438\n",
       "Conflicts_totalDeaths              2918.705152\n",
       "Conflicts_totalDeathsCivilians     2186.037685\n",
       "dtype: float64"
      ]
     },
     "execution_count": 7,
     "metadata": {},
     "output_type": "execute_result"
    }
   ],
   "source": [
    "df.describe().sum()"
   ]
  },
  {
   "cell_type": "code",
   "execution_count": 9,
   "metadata": {},
   "outputs": [
    {
     "data": {
      "text/plain": [
       "Country                             0\n",
       "Sub-national region                 0\n",
       "latitude                           31\n",
       "longitude                          31\n",
       "ISO country code                    0\n",
       "World region                        0\n",
       "MPI_Country                         0\n",
       "MPI_Region                          0\n",
       "PercPoverty                         0\n",
       "DepvrIntensity                      1\n",
       "location_type                      31\n",
       "latlngImputed                       0\n",
       "useforspatial                       0\n",
       "popDensity                         31\n",
       "precipitation                      31\n",
       "TimeToCity                         34\n",
       "AvgNightLight                      31\n",
       "LandClassification                 31\n",
       "Elevation                          31\n",
       "Temperature                        37\n",
       "Evaporation                       281\n",
       "Modis_LAI                         281\n",
       "Modis_EVI                          32\n",
       "soil_orgc                         835\n",
       "soil_phaq                         832\n",
       "soil_clay                         832\n",
       "soil_silt                         832\n",
       "soil_sand                         833\n",
       "Conflicts_total                    31\n",
       "Conflicts_totalDeaths              31\n",
       "Conflicts_totalDeathsCivilians     31\n",
       "dtype: int64"
      ]
     },
     "execution_count": 9,
     "metadata": {},
     "output_type": "execute_result"
    }
   ],
   "source": [
    "df.isnull().sum()"
   ]
  },
  {
   "cell_type": "code",
   "execution_count": 28,
   "metadata": {},
   "outputs": [],
   "source": [
    "df1 = df.drop(columns=['Conflicts_total', 'Conflicts_totalDeaths', 'Conflicts_totalDeathsCivilians' ])"
   ]
  },
  {
   "cell_type": "code",
   "execution_count": 29,
   "metadata": {},
   "outputs": [],
   "source": [
    "df2 = df1.drop(columns=['PercPoverty'])"
   ]
  },
  {
   "cell_type": "code",
   "execution_count": 30,
   "metadata": {},
   "outputs": [
    {
     "data": {
      "text/plain": [
       "Country                             0\n",
       "Sub-national region                 0\n",
       "latitude                           31\n",
       "longitude                          31\n",
       "ISO country code                    0\n",
       "World region                        0\n",
       "MPI_Country                         0\n",
       "MPI_Region                          0\n",
       "PercPoverty                         0\n",
       "DepvrIntensity                      1\n",
       "location_type                      31\n",
       "latlngImputed                       0\n",
       "useforspatial                       0\n",
       "popDensity                         31\n",
       "precipitation                      31\n",
       "TimeToCity                         34\n",
       "AvgNightLight                      31\n",
       "LandClassification                 31\n",
       "Elevation                          31\n",
       "Temperature                        37\n",
       "Evaporation                       281\n",
       "Modis_LAI                         281\n",
       "Modis_EVI                          32\n",
       "soil_orgc                         835\n",
       "soil_phaq                         832\n",
       "soil_clay                         832\n",
       "soil_silt                         832\n",
       "soil_sand                         833\n",
       "Conflicts_total                    31\n",
       "Conflicts_totalDeaths              31\n",
       "Conflicts_totalDeathsCivilians     31\n",
       "dtype: int64"
      ]
     },
     "execution_count": 30,
     "metadata": {},
     "output_type": "execute_result"
    }
   ],
   "source": [
    "df.isnull().sum()"
   ]
  },
  {
   "cell_type": "code",
   "execution_count": 32,
   "metadata": {},
   "outputs": [
    {
     "data": {
      "text/plain": [
       "(994, 27)"
      ]
     },
     "execution_count": 32,
     "metadata": {},
     "output_type": "execute_result"
    }
   ],
   "source": [
    "df2.shape"
   ]
  },
  {
   "cell_type": "code",
   "execution_count": 33,
   "metadata": {},
   "outputs": [],
   "source": [
    "df2 = df2.dropna(subset=['latitude', 'longitude'])"
   ]
  },
  {
   "cell_type": "code",
   "execution_count": 43,
   "metadata": {},
   "outputs": [],
   "source": [
    "# fill evaporation and lai with mean\n",
    "df2['Evaporation'] = df['Evaporation'].fillna(df['Evaporation'].mean())"
   ]
  },
  {
   "cell_type": "code",
   "execution_count": 44,
   "metadata": {},
   "outputs": [],
   "source": [
    "df2['Modis_LAI'] = df['Modis_LAI'].fillna(df['Modis_LAI'].mean())"
   ]
  },
  {
   "cell_type": "code",
   "execution_count": 46,
   "metadata": {},
   "outputs": [
    {
     "data": {
      "text/html": [
       "<div>\n",
       "<style scoped>\n",
       "    .dataframe tbody tr th:only-of-type {\n",
       "        vertical-align: middle;\n",
       "    }\n",
       "\n",
       "    .dataframe tbody tr th {\n",
       "        vertical-align: top;\n",
       "    }\n",
       "\n",
       "    .dataframe thead th {\n",
       "        text-align: right;\n",
       "    }\n",
       "</style>\n",
       "<table border=\"1\" class=\"dataframe\">\n",
       "  <thead>\n",
       "    <tr style=\"text-align: right;\">\n",
       "      <th></th>\n",
       "      <th>Country</th>\n",
       "      <th>Sub-national region</th>\n",
       "      <th>latitude</th>\n",
       "      <th>longitude</th>\n",
       "      <th>ISO country code</th>\n",
       "      <th>World region</th>\n",
       "      <th>MPI_Country</th>\n",
       "      <th>MPI_Region</th>\n",
       "      <th>DepvrIntensity</th>\n",
       "      <th>location_type</th>\n",
       "      <th>...</th>\n",
       "      <th>Evaporation</th>\n",
       "      <th>Modis_LAI</th>\n",
       "      <th>Modis_EVI</th>\n",
       "      <th>soil_orgc</th>\n",
       "      <th>soil_phaq</th>\n",
       "      <th>soil_clay</th>\n",
       "      <th>soil_silt</th>\n",
       "      <th>soil_sand</th>\n",
       "      <th>Evaporation_m</th>\n",
       "      <th>Modis_LAI_m</th>\n",
       "    </tr>\n",
       "  </thead>\n",
       "  <tbody>\n",
       "    <tr>\n",
       "      <th>0</th>\n",
       "      <td>Afghanistan</td>\n",
       "      <td>Badakhshan</td>\n",
       "      <td>36.734772</td>\n",
       "      <td>70.811995</td>\n",
       "      <td>AFG</td>\n",
       "      <td>South Asia</td>\n",
       "      <td>0.295</td>\n",
       "      <td>0.387</td>\n",
       "      <td>57.3</td>\n",
       "      <td>APPROXIMATE</td>\n",
       "      <td>...</td>\n",
       "      <td>3532.0</td>\n",
       "      <td>2.0</td>\n",
       "      <td>732.0</td>\n",
       "      <td>NaN</td>\n",
       "      <td>NaN</td>\n",
       "      <td>NaN</td>\n",
       "      <td>NaN</td>\n",
       "      <td>NaN</td>\n",
       "      <td>3532.0</td>\n",
       "      <td>2.0</td>\n",
       "    </tr>\n",
       "    <tr>\n",
       "      <th>1</th>\n",
       "      <td>Afghanistan</td>\n",
       "      <td>Badghis</td>\n",
       "      <td>35.167134</td>\n",
       "      <td>63.769538</td>\n",
       "      <td>AFG</td>\n",
       "      <td>South Asia</td>\n",
       "      <td>0.295</td>\n",
       "      <td>0.466</td>\n",
       "      <td>58.8</td>\n",
       "      <td>APPROXIMATE</td>\n",
       "      <td>...</td>\n",
       "      <td>1615.0</td>\n",
       "      <td>2.0</td>\n",
       "      <td>1340.0</td>\n",
       "      <td>NaN</td>\n",
       "      <td>NaN</td>\n",
       "      <td>NaN</td>\n",
       "      <td>NaN</td>\n",
       "      <td>NaN</td>\n",
       "      <td>1615.0</td>\n",
       "      <td>2.0</td>\n",
       "    </tr>\n",
       "    <tr>\n",
       "      <th>2</th>\n",
       "      <td>Afghanistan</td>\n",
       "      <td>Baghlan</td>\n",
       "      <td>35.804295</td>\n",
       "      <td>69.287753</td>\n",
       "      <td>AFG</td>\n",
       "      <td>South Asia</td>\n",
       "      <td>0.295</td>\n",
       "      <td>0.300</td>\n",
       "      <td>50.3</td>\n",
       "      <td>APPROXIMATE</td>\n",
       "      <td>...</td>\n",
       "      <td>2158.0</td>\n",
       "      <td>1.0</td>\n",
       "      <td>884.0</td>\n",
       "      <td>NaN</td>\n",
       "      <td>NaN</td>\n",
       "      <td>NaN</td>\n",
       "      <td>NaN</td>\n",
       "      <td>NaN</td>\n",
       "      <td>2158.0</td>\n",
       "      <td>1.0</td>\n",
       "    </tr>\n",
       "    <tr>\n",
       "      <th>3</th>\n",
       "      <td>Afghanistan</td>\n",
       "      <td>Balkh</td>\n",
       "      <td>36.755060</td>\n",
       "      <td>66.897537</td>\n",
       "      <td>AFG</td>\n",
       "      <td>South Asia</td>\n",
       "      <td>0.295</td>\n",
       "      <td>0.301</td>\n",
       "      <td>54.1</td>\n",
       "      <td>APPROXIMATE</td>\n",
       "      <td>...</td>\n",
       "      <td>1482.0</td>\n",
       "      <td>4.0</td>\n",
       "      <td>2028.0</td>\n",
       "      <td>NaN</td>\n",
       "      <td>NaN</td>\n",
       "      <td>NaN</td>\n",
       "      <td>NaN</td>\n",
       "      <td>NaN</td>\n",
       "      <td>1482.0</td>\n",
       "      <td>4.0</td>\n",
       "    </tr>\n",
       "    <tr>\n",
       "      <th>4</th>\n",
       "      <td>Afghanistan</td>\n",
       "      <td>Bamyan</td>\n",
       "      <td>34.810007</td>\n",
       "      <td>67.821210</td>\n",
       "      <td>AFG</td>\n",
       "      <td>South Asia</td>\n",
       "      <td>0.295</td>\n",
       "      <td>0.325</td>\n",
       "      <td>53.3</td>\n",
       "      <td>APPROXIMATE</td>\n",
       "      <td>...</td>\n",
       "      <td>2744.0</td>\n",
       "      <td>4.0</td>\n",
       "      <td>1261.0</td>\n",
       "      <td>NaN</td>\n",
       "      <td>NaN</td>\n",
       "      <td>NaN</td>\n",
       "      <td>NaN</td>\n",
       "      <td>NaN</td>\n",
       "      <td>2744.0</td>\n",
       "      <td>4.0</td>\n",
       "    </tr>\n",
       "  </tbody>\n",
       "</table>\n",
       "<p>5 rows × 29 columns</p>\n",
       "</div>"
      ],
      "text/plain": [
       "       Country Sub-national region   latitude  longitude ISO country code  \\\n",
       "0  Afghanistan          Badakhshan  36.734772  70.811995              AFG   \n",
       "1  Afghanistan             Badghis  35.167134  63.769538              AFG   \n",
       "2  Afghanistan             Baghlan  35.804295  69.287753              AFG   \n",
       "3  Afghanistan               Balkh  36.755060  66.897537              AFG   \n",
       "4  Afghanistan              Bamyan  34.810007  67.821210              AFG   \n",
       "\n",
       "  World region  MPI_Country  MPI_Region  DepvrIntensity location_type  ...  \\\n",
       "0   South Asia        0.295       0.387            57.3   APPROXIMATE  ...   \n",
       "1   South Asia        0.295       0.466            58.8   APPROXIMATE  ...   \n",
       "2   South Asia        0.295       0.300            50.3   APPROXIMATE  ...   \n",
       "3   South Asia        0.295       0.301            54.1   APPROXIMATE  ...   \n",
       "4   South Asia        0.295       0.325            53.3   APPROXIMATE  ...   \n",
       "\n",
       "   Evaporation  Modis_LAI  Modis_EVI  soil_orgc  soil_phaq  soil_clay  \\\n",
       "0       3532.0        2.0      732.0        NaN        NaN        NaN   \n",
       "1       1615.0        2.0     1340.0        NaN        NaN        NaN   \n",
       "2       2158.0        1.0      884.0        NaN        NaN        NaN   \n",
       "3       1482.0        4.0     2028.0        NaN        NaN        NaN   \n",
       "4       2744.0        4.0     1261.0        NaN        NaN        NaN   \n",
       "\n",
       "   soil_silt  soil_sand  Evaporation_m  Modis_LAI_m  \n",
       "0        NaN        NaN         3532.0          2.0  \n",
       "1        NaN        NaN         1615.0          2.0  \n",
       "2        NaN        NaN         2158.0          1.0  \n",
       "3        NaN        NaN         1482.0          4.0  \n",
       "4        NaN        NaN         2744.0          4.0  \n",
       "\n",
       "[5 rows x 29 columns]"
      ]
     },
     "execution_count": 46,
     "metadata": {},
     "output_type": "execute_result"
    }
   ],
   "source": [
    "df2.head()"
   ]
  },
  {
   "cell_type": "code",
   "execution_count": 51,
   "metadata": {},
   "outputs": [],
   "source": [
    "df2 = df2.dropna(subset=['TimeToCity', 'DepvrIntensity', 'Temperature' ])\n"
   ]
  },
  {
   "cell_type": "code",
   "execution_count": 52,
   "metadata": {},
   "outputs": [
    {
     "data": {
      "text/plain": [
       "Country                  0\n",
       "Sub-national region      0\n",
       "latitude                 0\n",
       "longitude                0\n",
       "ISO country code         0\n",
       "World region             0\n",
       "MPI_Country              0\n",
       "MPI_Region               0\n",
       "DepvrIntensity           0\n",
       "location_type            0\n",
       "latlngImputed            0\n",
       "useforspatial            0\n",
       "popDensity               0\n",
       "precipitation            0\n",
       "TimeToCity               0\n",
       "AvgNightLight            0\n",
       "LandClassification       0\n",
       "Elevation                0\n",
       "Temperature              0\n",
       "Evaporation              0\n",
       "Modis_LAI                0\n",
       "Modis_EVI                0\n",
       "soil_orgc              798\n",
       "soil_phaq              795\n",
       "soil_clay              795\n",
       "soil_silt              795\n",
       "soil_sand              796\n",
       "Evaporation_m            0\n",
       "Modis_LAI_m              0\n",
       "dtype: int64"
      ]
     },
     "execution_count": 52,
     "metadata": {},
     "output_type": "execute_result"
    }
   ],
   "source": [
    "df2.isnull().sum()"
   ]
  },
  {
   "cell_type": "code",
   "execution_count": 53,
   "metadata": {},
   "outputs": [
    {
     "data": {
      "text/plain": [
       "(955, 29)"
      ]
     },
     "execution_count": 53,
     "metadata": {},
     "output_type": "execute_result"
    }
   ],
   "source": [
    "df2.shape"
   ]
  },
  {
   "cell_type": "code",
   "execution_count": 56,
   "metadata": {},
   "outputs": [],
   "source": [
    "df2.to_csv('final_cleaned_dataset.csv')"
   ]
  },
  {
   "cell_type": "code",
   "execution_count": null,
   "metadata": {},
   "outputs": [],
   "source": []
  }
 ],
 "metadata": {
  "kernelspec": {
   "display_name": "virtualenv",
   "language": "python",
   "name": "python3"
  },
  "language_info": {
   "codemirror_mode": {
    "name": "ipython",
    "version": 3
   },
   "file_extension": ".py",
   "mimetype": "text/x-python",
   "name": "python",
   "nbconvert_exporter": "python",
   "pygments_lexer": "ipython3",
   "version": "3.12.3"
  }
 },
 "nbformat": 4,
 "nbformat_minor": 2
}
